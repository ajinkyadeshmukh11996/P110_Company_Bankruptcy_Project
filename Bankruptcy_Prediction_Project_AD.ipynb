{
 "cells": [
  {
   "cell_type": "markdown",
   "id": "b6cce1fd",
   "metadata": {},
   "source": [
    "# Problem Statement: To create a Model which can predict whether company will go bankrupt or not based on given features and make recommendations accordingly to avoid its bankruptcy"
   ]
  },
  {
   "cell_type": "code",
   "execution_count": 1,
   "id": "2268984c",
   "metadata": {},
   "outputs": [],
   "source": [
    "#Importing of necessary libraries\n",
    "import pandas as pd\n",
    "from sklearn import preprocessing\n",
    "import matplotlib.pyplot as plt\n",
    "import ppscore as pps\n",
    "from sklearn.feature_selection import chi2\n",
    "from sklearn.model_selection import train_test_split\n",
    "from sklearn.linear_model import LogisticRegression\n",
    "from sklearn.metrics import accuracy_score\n",
    "from sklearn.model_selection import cross_val_score\n",
    "import warnings\n",
    "warnings.filterwarnings(\"ignore\")\n",
    "from sklearn.feature_selection import RFE\n",
    "from sklearn.tree import DecisionTreeClassifier\n",
    "from sklearn import svm\n",
    "from sklearn.naive_bayes import GaussianNB\n",
    "from sklearn.ensemble import RandomForestClassifier\n",
    "from sklearn.metrics import classification_report\n",
    "from sklearn.ensemble import BaggingClassifier\n",
    "from sklearn.ensemble import AdaBoostClassifier\n",
    "from sklearn.neighbors import KNeighborsClassifier\n",
    "from sklearn.ensemble import VotingClassifier\n",
    "import pickle\n",
    "from statistics import mode\n",
    "import streamlit as st"
   ]
  },
  {
   "cell_type": "markdown",
   "id": "26b5eab9",
   "metadata": {},
   "source": [
    "Data Collection"
   ]
  },
  {
   "cell_type": "code",
   "execution_count": 2,
   "id": "58a17352",
   "metadata": {},
   "outputs": [
    {
     "data": {
      "text/html": [
       "<div>\n",
       "<style scoped>\n",
       "    .dataframe tbody tr th:only-of-type {\n",
       "        vertical-align: middle;\n",
       "    }\n",
       "\n",
       "    .dataframe tbody tr th {\n",
       "        vertical-align: top;\n",
       "    }\n",
       "\n",
       "    .dataframe thead th {\n",
       "        text-align: right;\n",
       "    }\n",
       "</style>\n",
       "<table border=\"1\" class=\"dataframe\">\n",
       "  <thead>\n",
       "    <tr style=\"text-align: right;\">\n",
       "      <th></th>\n",
       "      <th>industrial_risk</th>\n",
       "      <th>management_risk</th>\n",
       "      <th>financial_flexibility</th>\n",
       "      <th>credibility</th>\n",
       "      <th>competitiveness</th>\n",
       "      <th>operating_risk</th>\n",
       "      <th>class</th>\n",
       "    </tr>\n",
       "  </thead>\n",
       "  <tbody>\n",
       "    <tr>\n",
       "      <th>0</th>\n",
       "      <td>0.5</td>\n",
       "      <td>1.0</td>\n",
       "      <td>0.0</td>\n",
       "      <td>0.0</td>\n",
       "      <td>0.0</td>\n",
       "      <td>0.5</td>\n",
       "      <td>bankruptcy</td>\n",
       "    </tr>\n",
       "    <tr>\n",
       "      <th>1</th>\n",
       "      <td>0.0</td>\n",
       "      <td>1.0</td>\n",
       "      <td>0.0</td>\n",
       "      <td>0.0</td>\n",
       "      <td>0.0</td>\n",
       "      <td>1.0</td>\n",
       "      <td>bankruptcy</td>\n",
       "    </tr>\n",
       "    <tr>\n",
       "      <th>2</th>\n",
       "      <td>1.0</td>\n",
       "      <td>0.0</td>\n",
       "      <td>0.0</td>\n",
       "      <td>0.0</td>\n",
       "      <td>0.0</td>\n",
       "      <td>1.0</td>\n",
       "      <td>bankruptcy</td>\n",
       "    </tr>\n",
       "    <tr>\n",
       "      <th>3</th>\n",
       "      <td>0.5</td>\n",
       "      <td>0.0</td>\n",
       "      <td>0.0</td>\n",
       "      <td>0.5</td>\n",
       "      <td>0.0</td>\n",
       "      <td>1.0</td>\n",
       "      <td>bankruptcy</td>\n",
       "    </tr>\n",
       "    <tr>\n",
       "      <th>4</th>\n",
       "      <td>1.0</td>\n",
       "      <td>1.0</td>\n",
       "      <td>0.0</td>\n",
       "      <td>0.0</td>\n",
       "      <td>0.0</td>\n",
       "      <td>1.0</td>\n",
       "      <td>bankruptcy</td>\n",
       "    </tr>\n",
       "    <tr>\n",
       "      <th>...</th>\n",
       "      <td>...</td>\n",
       "      <td>...</td>\n",
       "      <td>...</td>\n",
       "      <td>...</td>\n",
       "      <td>...</td>\n",
       "      <td>...</td>\n",
       "      <td>...</td>\n",
       "    </tr>\n",
       "    <tr>\n",
       "      <th>245</th>\n",
       "      <td>0.0</td>\n",
       "      <td>1.0</td>\n",
       "      <td>1.0</td>\n",
       "      <td>1.0</td>\n",
       "      <td>1.0</td>\n",
       "      <td>1.0</td>\n",
       "      <td>non-bankruptcy</td>\n",
       "    </tr>\n",
       "    <tr>\n",
       "      <th>246</th>\n",
       "      <td>1.0</td>\n",
       "      <td>1.0</td>\n",
       "      <td>0.5</td>\n",
       "      <td>1.0</td>\n",
       "      <td>1.0</td>\n",
       "      <td>0.0</td>\n",
       "      <td>non-bankruptcy</td>\n",
       "    </tr>\n",
       "    <tr>\n",
       "      <th>247</th>\n",
       "      <td>0.0</td>\n",
       "      <td>1.0</td>\n",
       "      <td>1.0</td>\n",
       "      <td>0.5</td>\n",
       "      <td>0.5</td>\n",
       "      <td>0.0</td>\n",
       "      <td>non-bankruptcy</td>\n",
       "    </tr>\n",
       "    <tr>\n",
       "      <th>248</th>\n",
       "      <td>1.0</td>\n",
       "      <td>0.0</td>\n",
       "      <td>0.5</td>\n",
       "      <td>1.0</td>\n",
       "      <td>0.5</td>\n",
       "      <td>0.0</td>\n",
       "      <td>non-bankruptcy</td>\n",
       "    </tr>\n",
       "    <tr>\n",
       "      <th>249</th>\n",
       "      <td>1.0</td>\n",
       "      <td>0.0</td>\n",
       "      <td>0.5</td>\n",
       "      <td>0.5</td>\n",
       "      <td>1.0</td>\n",
       "      <td>1.0</td>\n",
       "      <td>non-bankruptcy</td>\n",
       "    </tr>\n",
       "  </tbody>\n",
       "</table>\n",
       "<p>250 rows × 7 columns</p>\n",
       "</div>"
      ],
      "text/plain": [
       "     industrial_risk   management_risk   financial_flexibility   credibility  \\\n",
       "0                0.5               1.0                     0.0           0.0   \n",
       "1                0.0               1.0                     0.0           0.0   \n",
       "2                1.0               0.0                     0.0           0.0   \n",
       "3                0.5               0.0                     0.0           0.5   \n",
       "4                1.0               1.0                     0.0           0.0   \n",
       "..               ...               ...                     ...           ...   \n",
       "245              0.0               1.0                     1.0           1.0   \n",
       "246              1.0               1.0                     0.5           1.0   \n",
       "247              0.0               1.0                     1.0           0.5   \n",
       "248              1.0               0.0                     0.5           1.0   \n",
       "249              1.0               0.0                     0.5           0.5   \n",
       "\n",
       "      competitiveness   operating_risk           class  \n",
       "0                 0.0              0.5      bankruptcy  \n",
       "1                 0.0              1.0      bankruptcy  \n",
       "2                 0.0              1.0      bankruptcy  \n",
       "3                 0.0              1.0      bankruptcy  \n",
       "4                 0.0              1.0      bankruptcy  \n",
       "..                ...              ...             ...  \n",
       "245               1.0              1.0  non-bankruptcy  \n",
       "246               1.0              0.0  non-bankruptcy  \n",
       "247               0.5              0.0  non-bankruptcy  \n",
       "248               0.5              0.0  non-bankruptcy  \n",
       "249               1.0              1.0  non-bankruptcy  \n",
       "\n",
       "[250 rows x 7 columns]"
      ]
     },
     "execution_count": 2,
     "metadata": {},
     "output_type": "execute_result"
    }
   ],
   "source": [
    "bankrupt = pd.read_csv('bankruptcy-prevention.csv',sep=';')\n",
    "bankrupt"
   ]
  },
  {
   "cell_type": "markdown",
   "id": "1032c627",
   "metadata": {},
   "source": [
    "Data Cleaning"
   ]
  },
  {
   "cell_type": "code",
   "execution_count": 3,
   "id": "c81b7cb1",
   "metadata": {},
   "outputs": [
    {
     "data": {
      "text/plain": [
       "industrial_risk           0\n",
       " management_risk          0\n",
       " financial_flexibility    0\n",
       " credibility              0\n",
       " competitiveness          0\n",
       " operating_risk           0\n",
       " class                    0\n",
       "dtype: int64"
      ]
     },
     "execution_count": 3,
     "metadata": {},
     "output_type": "execute_result"
    }
   ],
   "source": [
    "#Checking the null values\n",
    "bankrupt.isnull().sum()"
   ]
  },
  {
   "cell_type": "code",
   "execution_count": 4,
   "id": "cded41ae",
   "metadata": {},
   "outputs": [
    {
     "data": {
      "text/plain": [
       "147"
      ]
     },
     "execution_count": 4,
     "metadata": {},
     "output_type": "execute_result"
    }
   ],
   "source": [
    "#Checking the duplicated values\n",
    "bankrupt.duplicated().sum()\n",
    "#there are 147 duplicated values found but it can contain important information and its percentage is also high so we are not deleting this"
   ]
  },
  {
   "cell_type": "code",
   "execution_count": 5,
   "id": "a1495bda",
   "metadata": {},
   "outputs": [
    {
     "data": {
      "text/plain": [
       "<AxesSubplot:>"
      ]
     },
     "execution_count": 5,
     "metadata": {},
     "output_type": "execute_result"
    },
    {
     "data": {
      "image/png": "[encoded data removed]",
      "text/plain": [
       "<Figure size 432x288 with 1 Axes>"
      ]
     },
     "metadata": {
      "needs_background": "light"
     },
     "output_type": "display_data"
    }
   ],
   "source": [
    "#Outlier detection\n",
    "bankrupt['industrial_risk'].value_counts().plot(kind = 'bar')\n",
    "#As all the values contains values of 0,0.5 and 1 and data is discrete so no outliers are there."
   ]
  },
  {
   "cell_type": "code",
   "execution_count": 6,
   "id": "e985afd5",
   "metadata": {},
   "outputs": [
    {
     "data": {
      "text/plain": [
       "{'whiskers': [<matplotlib.lines.Line2D at 0x233acdffb50>,\n",
       "  <matplotlib.lines.Line2D at 0x233acdffe20>],\n",
       " 'caps': [<matplotlib.lines.Line2D at 0x233ace151f0>,\n",
       "  <matplotlib.lines.Line2D at 0x233ace15580>],\n",
       " 'boxes': [<matplotlib.lines.Line2D at 0x233acdff700>],\n",
       " 'medians': [<matplotlib.lines.Line2D at 0x233ace15910>],\n",
       " 'fliers': [<matplotlib.lines.Line2D at 0x233ace15cd0>],\n",
       " 'means': []}"
      ]
     },
     "execution_count": 6,
     "metadata": {},
     "output_type": "execute_result"
    },
    {
     "data": {
      "image/png": "[encoded data removed]",
      "text/plain": [
       "<Figure size 432x288 with 1 Axes>"
      ]
     },
     "metadata": {
      "needs_background": "light"
     },
     "output_type": "display_data"
    }
   ],
   "source": [
    "plt.boxplot(bankrupt.industrial_risk)"
   ]
  },
  {
   "cell_type": "code",
   "execution_count": 7,
   "id": "19272857",
   "metadata": {},
   "outputs": [],
   "source": [
    "#After looking at data no unnecessary columns like some identity number or like that is observed. If it is not important is can be detected in feature engineering"
   ]
  },
  {
   "cell_type": "markdown",
   "id": "5938fee9",
   "metadata": {},
   "source": [
    "Exploratory Data Analysis"
   ]
  },
  {
   "cell_type": "code",
   "execution_count": 8,
   "id": "1e1e193c",
   "metadata": {},
   "outputs": [
    {
     "data": {
      "text/html": [
       "<div>\n",
       "<style scoped>\n",
       "    .dataframe tbody tr th:only-of-type {\n",
       "        vertical-align: middle;\n",
       "    }\n",
       "\n",
       "    .dataframe tbody tr th {\n",
       "        vertical-align: top;\n",
       "    }\n",
       "\n",
       "    .dataframe thead th {\n",
       "        text-align: right;\n",
       "    }\n",
       "</style>\n",
       "<table border=\"1\" class=\"dataframe\">\n",
       "  <thead>\n",
       "    <tr style=\"text-align: right;\">\n",
       "      <th></th>\n",
       "      <th>industrial_risk</th>\n",
       "      <th>management_risk</th>\n",
       "      <th>financial_flexibility</th>\n",
       "      <th>credibility</th>\n",
       "      <th>competitiveness</th>\n",
       "      <th>operating_risk</th>\n",
       "    </tr>\n",
       "  </thead>\n",
       "  <tbody>\n",
       "    <tr>\n",
       "      <th>count</th>\n",
       "      <td>250.000000</td>\n",
       "      <td>250.000000</td>\n",
       "      <td>250.000000</td>\n",
       "      <td>250.000000</td>\n",
       "      <td>250.000000</td>\n",
       "      <td>250.000000</td>\n",
       "    </tr>\n",
       "    <tr>\n",
       "      <th>mean</th>\n",
       "      <td>0.518000</td>\n",
       "      <td>0.614000</td>\n",
       "      <td>0.376000</td>\n",
       "      <td>0.470000</td>\n",
       "      <td>0.476000</td>\n",
       "      <td>0.570000</td>\n",
       "    </tr>\n",
       "    <tr>\n",
       "      <th>std</th>\n",
       "      <td>0.411526</td>\n",
       "      <td>0.410705</td>\n",
       "      <td>0.401583</td>\n",
       "      <td>0.415682</td>\n",
       "      <td>0.440682</td>\n",
       "      <td>0.434575</td>\n",
       "    </tr>\n",
       "    <tr>\n",
       "      <th>min</th>\n",
       "      <td>0.000000</td>\n",
       "      <td>0.000000</td>\n",
       "      <td>0.000000</td>\n",
       "      <td>0.000000</td>\n",
       "      <td>0.000000</td>\n",
       "      <td>0.000000</td>\n",
       "    </tr>\n",
       "    <tr>\n",
       "      <th>25%</th>\n",
       "      <td>0.000000</td>\n",
       "      <td>0.500000</td>\n",
       "      <td>0.000000</td>\n",
       "      <td>0.000000</td>\n",
       "      <td>0.000000</td>\n",
       "      <td>0.000000</td>\n",
       "    </tr>\n",
       "    <tr>\n",
       "      <th>50%</th>\n",
       "      <td>0.500000</td>\n",
       "      <td>0.500000</td>\n",
       "      <td>0.500000</td>\n",
       "      <td>0.500000</td>\n",
       "      <td>0.500000</td>\n",
       "      <td>0.500000</td>\n",
       "    </tr>\n",
       "    <tr>\n",
       "      <th>75%</th>\n",
       "      <td>1.000000</td>\n",
       "      <td>1.000000</td>\n",
       "      <td>0.500000</td>\n",
       "      <td>1.000000</td>\n",
       "      <td>1.000000</td>\n",
       "      <td>1.000000</td>\n",
       "    </tr>\n",
       "    <tr>\n",
       "      <th>max</th>\n",
       "      <td>1.000000</td>\n",
       "      <td>1.000000</td>\n",
       "      <td>1.000000</td>\n",
       "      <td>1.000000</td>\n",
       "      <td>1.000000</td>\n",
       "      <td>1.000000</td>\n",
       "    </tr>\n",
       "  </tbody>\n",
       "</table>\n",
       "</div>"
      ],
      "text/plain": [
       "       industrial_risk   management_risk   financial_flexibility  \\\n",
       "count       250.000000        250.000000              250.000000   \n",
       "mean          0.518000          0.614000                0.376000   \n",
       "std           0.411526          0.410705                0.401583   \n",
       "min           0.000000          0.000000                0.000000   \n",
       "25%           0.000000          0.500000                0.000000   \n",
       "50%           0.500000          0.500000                0.500000   \n",
       "75%           1.000000          1.000000                0.500000   \n",
       "max           1.000000          1.000000                1.000000   \n",
       "\n",
       "        credibility   competitiveness   operating_risk  \n",
       "count    250.000000        250.000000       250.000000  \n",
       "mean       0.470000          0.476000         0.570000  \n",
       "std        0.415682          0.440682         0.434575  \n",
       "min        0.000000          0.000000         0.000000  \n",
       "25%        0.000000          0.000000         0.000000  \n",
       "50%        0.500000          0.500000         0.500000  \n",
       "75%        1.000000          1.000000         1.000000  \n",
       "max        1.000000          1.000000         1.000000  "
      ]
     },
     "execution_count": 8,
     "metadata": {},
     "output_type": "execute_result"
    }
   ],
   "source": [
    "bankrupt.describe() #checking for the min max,median values and iqr"
   ]
  },
  {
   "cell_type": "code",
   "execution_count": 9,
   "id": "bde9e884",
   "metadata": {},
   "outputs": [
    {
     "data": {
      "text/plain": [
       "1.0"
      ]
     },
     "execution_count": 9,
     "metadata": {},
     "output_type": "execute_result"
    }
   ],
   "source": [
    "mode(bankrupt.industrial_risk)"
   ]
  },
  {
   "cell_type": "code",
   "execution_count": 10,
   "id": "146c201c",
   "metadata": {},
   "outputs": [
    {
     "name": "stdout",
     "output_type": "stream",
     "text": [
      "<class 'pandas.core.frame.DataFrame'>\n",
      "RangeIndex: 250 entries, 0 to 249\n",
      "Data columns (total 7 columns):\n",
      " #   Column                  Non-Null Count  Dtype  \n",
      "---  ------                  --------------  -----  \n",
      " 0   industrial_risk         250 non-null    float64\n",
      " 1    management_risk        250 non-null    float64\n",
      " 2    financial_flexibility  250 non-null    float64\n",
      " 3    credibility            250 non-null    float64\n",
      " 4    competitiveness        250 non-null    float64\n",
      " 5    operating_risk         250 non-null    float64\n",
      " 6    class                  250 non-null    object \n",
      "dtypes: float64(6), object(1)\n",
      "memory usage: 13.8+ KB\n"
     ]
    }
   ],
   "source": [
    "#Checking the data types\n",
    "bankrupt.info()"
   ]
  },
  {
   "cell_type": "code",
   "execution_count": 11,
   "id": "1e6bfbc1",
   "metadata": {},
   "outputs": [
    {
     "data": {
      "text/plain": [
       "Index(['industrial_risk', ' management_risk', ' financial_flexibility',\n",
       "       ' credibility', ' competitiveness', ' operating_risk', ' class'],\n",
       "      dtype='object')"
      ]
     },
     "execution_count": 11,
     "metadata": {},
     "output_type": "execute_result"
    }
   ],
   "source": [
    "#Checking column names\n",
    "bankrupt.columns"
   ]
  },
  {
   "cell_type": "code",
   "execution_count": 12,
   "id": "da82c36a",
   "metadata": {},
   "outputs": [],
   "source": [
    "#Space removal from column names\n",
    "bankrupt.columns=bankrupt.columns.str.strip()"
   ]
  },
  {
   "cell_type": "code",
   "execution_count": 13,
   "id": "7eb00ca7",
   "metadata": {},
   "outputs": [
    {
     "data": {
      "text/plain": [
       "Index(['industrial_risk', 'management_risk', 'financial_flexibility',\n",
       "       'credibility', 'competitiveness', 'operating_risk', 'class'],\n",
       "      dtype='object')"
      ]
     },
     "execution_count": 13,
     "metadata": {},
     "output_type": "execute_result"
    }
   ],
   "source": [
    "#Ensuring space removal\n",
    "bankrupt.columns"
   ]
  },
  {
   "cell_type": "code",
   "execution_count": 14,
   "id": "4a176d71",
   "metadata": {},
   "outputs": [
    {
     "name": "stdout",
     "output_type": "stream",
     "text": [
      "mode for industrial risk is  1.0\n",
      "mode for management risk is  1.0\n",
      "mode for financial flexibility is  0.0\n",
      "mode for credibility is  0.0\n",
      "mode for competitiveness is  0.0\n",
      "mode for operating risk is  1.0\n"
     ]
    }
   ],
   "source": [
    "#Checking mode for all features\n",
    "print('mode for industrial risk is ',mode(bankrupt.industrial_risk))\n",
    "print('mode for management risk is ',mode(bankrupt.management_risk))\n",
    "print('mode for financial flexibility is ',mode(bankrupt.financial_flexibility))\n",
    "print('mode for credibility is ',mode(bankrupt.credibility))\n",
    "print('mode for competitiveness is ',mode(bankrupt.competitiveness))\n",
    "print('mode for operating risk is ',mode(bankrupt.operating_risk))"
   ]
  },
  {
   "cell_type": "code",
   "execution_count": 15,
   "id": "cace12b1",
   "metadata": {},
   "outputs": [],
   "source": [
    "#Using the label encoding to target variable class so as to convert object type to intergers\n",
    "label_encoder = preprocessing.LabelEncoder()\n",
    "bankrupt['class']=label_encoder.fit_transform(bankrupt['class'])"
   ]
  },
  {
   "cell_type": "code",
   "execution_count": 16,
   "id": "27ffb9b8",
   "metadata": {},
   "outputs": [
    {
     "data": {
      "text/html": [
       "<div>\n",
       "<style scoped>\n",
       "    .dataframe tbody tr th:only-of-type {\n",
       "        vertical-align: middle;\n",
       "    }\n",
       "\n",
       "    .dataframe tbody tr th {\n",
       "        vertical-align: top;\n",
       "    }\n",
       "\n",
       "    .dataframe thead th {\n",
       "        text-align: right;\n",
       "    }\n",
       "</style>\n",
       "<table border=\"1\" class=\"dataframe\">\n",
       "  <thead>\n",
       "    <tr style=\"text-align: right;\">\n",
       "      <th></th>\n",
       "      <th>industrial_risk</th>\n",
       "      <th>management_risk</th>\n",
       "      <th>financial_flexibility</th>\n",
       "      <th>credibility</th>\n",
       "      <th>competitiveness</th>\n",
       "      <th>operating_risk</th>\n",
       "      <th>class</th>\n",
       "    </tr>\n",
       "  </thead>\n",
       "  <tbody>\n",
       "    <tr>\n",
       "      <th>0</th>\n",
       "      <td>0.5</td>\n",
       "      <td>1.0</td>\n",
       "      <td>0.0</td>\n",
       "      <td>0.0</td>\n",
       "      <td>0.0</td>\n",
       "      <td>0.5</td>\n",
       "      <td>0</td>\n",
       "    </tr>\n",
       "    <tr>\n",
       "      <th>1</th>\n",
       "      <td>0.0</td>\n",
       "      <td>1.0</td>\n",
       "      <td>0.0</td>\n",
       "      <td>0.0</td>\n",
       "      <td>0.0</td>\n",
       "      <td>1.0</td>\n",
       "      <td>0</td>\n",
       "    </tr>\n",
       "    <tr>\n",
       "      <th>2</th>\n",
       "      <td>1.0</td>\n",
       "      <td>0.0</td>\n",
       "      <td>0.0</td>\n",
       "      <td>0.0</td>\n",
       "      <td>0.0</td>\n",
       "      <td>1.0</td>\n",
       "      <td>0</td>\n",
       "    </tr>\n",
       "    <tr>\n",
       "      <th>3</th>\n",
       "      <td>0.5</td>\n",
       "      <td>0.0</td>\n",
       "      <td>0.0</td>\n",
       "      <td>0.5</td>\n",
       "      <td>0.0</td>\n",
       "      <td>1.0</td>\n",
       "      <td>0</td>\n",
       "    </tr>\n",
       "    <tr>\n",
       "      <th>4</th>\n",
       "      <td>1.0</td>\n",
       "      <td>1.0</td>\n",
       "      <td>0.0</td>\n",
       "      <td>0.0</td>\n",
       "      <td>0.0</td>\n",
       "      <td>1.0</td>\n",
       "      <td>0</td>\n",
       "    </tr>\n",
       "    <tr>\n",
       "      <th>...</th>\n",
       "      <td>...</td>\n",
       "      <td>...</td>\n",
       "      <td>...</td>\n",
       "      <td>...</td>\n",
       "      <td>...</td>\n",
       "      <td>...</td>\n",
       "      <td>...</td>\n",
       "    </tr>\n",
       "    <tr>\n",
       "      <th>245</th>\n",
       "      <td>0.0</td>\n",
       "      <td>1.0</td>\n",
       "      <td>1.0</td>\n",
       "      <td>1.0</td>\n",
       "      <td>1.0</td>\n",
       "      <td>1.0</td>\n",
       "      <td>1</td>\n",
       "    </tr>\n",
       "    <tr>\n",
       "      <th>246</th>\n",
       "      <td>1.0</td>\n",
       "      <td>1.0</td>\n",
       "      <td>0.5</td>\n",
       "      <td>1.0</td>\n",
       "      <td>1.0</td>\n",
       "      <td>0.0</td>\n",
       "      <td>1</td>\n",
       "    </tr>\n",
       "    <tr>\n",
       "      <th>247</th>\n",
       "      <td>0.0</td>\n",
       "      <td>1.0</td>\n",
       "      <td>1.0</td>\n",
       "      <td>0.5</td>\n",
       "      <td>0.5</td>\n",
       "      <td>0.0</td>\n",
       "      <td>1</td>\n",
       "    </tr>\n",
       "    <tr>\n",
       "      <th>248</th>\n",
       "      <td>1.0</td>\n",
       "      <td>0.0</td>\n",
       "      <td>0.5</td>\n",
       "      <td>1.0</td>\n",
       "      <td>0.5</td>\n",
       "      <td>0.0</td>\n",
       "      <td>1</td>\n",
       "    </tr>\n",
       "    <tr>\n",
       "      <th>249</th>\n",
       "      <td>1.0</td>\n",
       "      <td>0.0</td>\n",
       "      <td>0.5</td>\n",
       "      <td>0.5</td>\n",
       "      <td>1.0</td>\n",
       "      <td>1.0</td>\n",
       "      <td>1</td>\n",
       "    </tr>\n",
       "  </tbody>\n",
       "</table>\n",
       "<p>250 rows × 7 columns</p>\n",
       "</div>"
      ],
      "text/plain": [
       "     industrial_risk  management_risk  financial_flexibility  credibility  \\\n",
       "0                0.5              1.0                    0.0          0.0   \n",
       "1                0.0              1.0                    0.0          0.0   \n",
       "2                1.0              0.0                    0.0          0.0   \n",
       "3                0.5              0.0                    0.0          0.5   \n",
       "4                1.0              1.0                    0.0          0.0   \n",
       "..               ...              ...                    ...          ...   \n",
       "245              0.0              1.0                    1.0          1.0   \n",
       "246              1.0              1.0                    0.5          1.0   \n",
       "247              0.0              1.0                    1.0          0.5   \n",
       "248              1.0              0.0                    0.5          1.0   \n",
       "249              1.0              0.0                    0.5          0.5   \n",
       "\n",
       "     competitiveness  operating_risk  class  \n",
       "0                0.0             0.5      0  \n",
       "1                0.0             1.0      0  \n",
       "2                0.0             1.0      0  \n",
       "3                0.0             1.0      0  \n",
       "4                0.0             1.0      0  \n",
       "..               ...             ...    ...  \n",
       "245              1.0             1.0      1  \n",
       "246              1.0             0.0      1  \n",
       "247              0.5             0.0      1  \n",
       "248              0.5             0.0      1  \n",
       "249              1.0             1.0      1  \n",
       "\n",
       "[250 rows x 7 columns]"
      ]
     },
     "execution_count": 16,
     "metadata": {},
     "output_type": "execute_result"
    }
   ],
   "source": [
    "bankrupt"
   ]
  },
  {
   "cell_type": "code",
   "execution_count": 17,
   "id": "8b17f809",
   "metadata": {},
   "outputs": [
    {
     "data": {
      "text/plain": [
       "<AxesSubplot:ylabel='None'>"
      ]
     },
     "execution_count": 17,
     "metadata": {},
     "output_type": "execute_result"
    },
    {
     "data": {
      "image/png": "[encoded data removed]",
      "text/plain": [
       "<Figure size 432x288 with 1 Axes>"
      ]
     },
     "metadata": {},
     "output_type": "display_data"
    }
   ],
   "source": [
    "#Checking whether data is balanced or not (0 for the bankrupt and 1 for the not bankrupt)\n",
    "bankrupt.groupby(['class']).size().plot(kind='pie',autopct='%0.2f')"
   ]
  },
  {
   "cell_type": "markdown",
   "id": "271f28e4",
   "metadata": {},
   "source": [
    "Feature Engineering"
   ]
  },
  {
   "cell_type": "code",
   "execution_count": 18,
   "id": "6e5dca32",
   "metadata": {},
   "outputs": [],
   "source": [
    "#Checking correlation between features and class using chi2 method\n",
    "chi2score,pvalue= chi2(bankrupt.iloc[::,0:6],bankrupt.iloc[::,6:7])"
   ]
  },
  {
   "cell_type": "code",
   "execution_count": 21,
   "id": "30055071",
   "metadata": {},
   "outputs": [],
   "source": [
    "x= bankrupt.iloc[::,0:6]\n",
    "y=bankrupt.iloc[::,6:7]"
   ]
  },
  {
   "cell_type": "code",
   "execution_count": 22,
   "id": "9770937f",
   "metadata": {},
   "outputs": [
    {
     "data": {
      "text/plain": [
       "array([3, 2, 1, 1, 1, 4])"
      ]
     },
     "execution_count": 22,
     "metadata": {},
     "output_type": "execute_result"
    }
   ],
   "source": [
    "#Checking important features using RFE\n",
    "model = LogisticRegression()\n",
    "rfe = RFE(model, 3)\n",
    "fit = rfe.fit(x,y)\n",
    "fit.ranking_"
   ]
  },
  {
   "cell_type": "code",
   "execution_count": 23,
   "id": "e2503a01",
   "metadata": {},
   "outputs": [
    {
     "data": {
      "text/html": [
       "<div>\n",
       "<style scoped>\n",
       "    .dataframe tbody tr th:only-of-type {\n",
       "        vertical-align: middle;\n",
       "    }\n",
       "\n",
       "    .dataframe tbody tr th {\n",
       "        vertical-align: top;\n",
       "    }\n",
       "\n",
       "    .dataframe thead th {\n",
       "        text-align: right;\n",
       "    }\n",
       "</style>\n",
       "<table border=\"1\" class=\"dataframe\">\n",
       "  <thead>\n",
       "    <tr style=\"text-align: right;\">\n",
       "      <th></th>\n",
       "      <th>features</th>\n",
       "      <th>chi2score</th>\n",
       "      <th>pvalue</th>\n",
       "      <th>RFE</th>\n",
       "    </tr>\n",
       "  </thead>\n",
       "  <tbody>\n",
       "    <tr>\n",
       "      <th>0</th>\n",
       "      <td>industrial_risk</td>\n",
       "      <td>4.225298</td>\n",
       "      <td>3.982561e-02</td>\n",
       "      <td>3</td>\n",
       "    </tr>\n",
       "    <tr>\n",
       "      <th>1</th>\n",
       "      <td>management_risk</td>\n",
       "      <td>9.407190</td>\n",
       "      <td>2.161362e-03</td>\n",
       "      <td>2</td>\n",
       "    </tr>\n",
       "    <tr>\n",
       "      <th>2</th>\n",
       "      <td>financial_flexibility</td>\n",
       "      <td>60.237242</td>\n",
       "      <td>8.408608e-15</td>\n",
       "      <td>1</td>\n",
       "    </tr>\n",
       "    <tr>\n",
       "      <th>3</th>\n",
       "      <td>credibility</td>\n",
       "      <td>52.307251</td>\n",
       "      <td>4.746188e-13</td>\n",
       "      <td>1</td>\n",
       "    </tr>\n",
       "    <tr>\n",
       "      <th>4</th>\n",
       "      <td>competitiveness</td>\n",
       "      <td>82.186252</td>\n",
       "      <td>1.238483e-19</td>\n",
       "      <td>1</td>\n",
       "    </tr>\n",
       "    <tr>\n",
       "      <th>5</th>\n",
       "      <td>operating_risk</td>\n",
       "      <td>6.458129</td>\n",
       "      <td>1.104459e-02</td>\n",
       "      <td>4</td>\n",
       "    </tr>\n",
       "  </tbody>\n",
       "</table>\n",
       "</div>"
      ],
      "text/plain": [
       "                features  chi2score        pvalue  RFE\n",
       "0        industrial_risk   4.225298  3.982561e-02    3\n",
       "1        management_risk   9.407190  2.161362e-03    2\n",
       "2  financial_flexibility  60.237242  8.408608e-15    1\n",
       "3            credibility  52.307251  4.746188e-13    1\n",
       "4        competitiveness  82.186252  1.238483e-19    1\n",
       "5         operating_risk   6.458129  1.104459e-02    4"
      ]
     },
     "execution_count": 23,
     "metadata": {},
     "output_type": "execute_result"
    }
   ],
   "source": [
    "chi2d= pd.DataFrame(['industrial_risk', 'management_risk', 'financial_flexibility','credibility', 'competitiveness', 'operating_risk'])\n",
    "chi2d['chi2score'] = chi2score\n",
    "chi2d['pvalue'] = pvalue\n",
    "chi2d=chi2d.rename(columns={0:'features'})\n",
    "chi2d['RFE']= fit.ranking_\n",
    "chi2d\n",
    "#As from the scores it is clear that feature 'financial_flexibility','credibility', 'competitiveness' are more important"
   ]
  },
  {
   "cell_type": "code",
   "execution_count": 27,
   "id": "9f96f39c",
   "metadata": {},
   "outputs": [
    {
     "data": {
      "text/html": [
       "<div>\n",
       "<style scoped>\n",
       "    .dataframe tbody tr th:only-of-type {\n",
       "        vertical-align: middle;\n",
       "    }\n",
       "\n",
       "    .dataframe tbody tr th {\n",
       "        vertical-align: top;\n",
       "    }\n",
       "\n",
       "    .dataframe thead th {\n",
       "        text-align: right;\n",
       "    }\n",
       "</style>\n",
       "<table border=\"1\" class=\"dataframe\">\n",
       "  <thead>\n",
       "    <tr style=\"text-align: right;\">\n",
       "      <th></th>\n",
       "      <th>financial_flexibility</th>\n",
       "      <th>credibility</th>\n",
       "      <th>competitiveness</th>\n",
       "      <th>class</th>\n",
       "    </tr>\n",
       "  </thead>\n",
       "  <tbody>\n",
       "    <tr>\n",
       "      <th>0</th>\n",
       "      <td>0.0</td>\n",
       "      <td>0.0</td>\n",
       "      <td>0.0</td>\n",
       "      <td>0</td>\n",
       "    </tr>\n",
       "    <tr>\n",
       "      <th>1</th>\n",
       "      <td>0.0</td>\n",
       "      <td>0.0</td>\n",
       "      <td>0.0</td>\n",
       "      <td>0</td>\n",
       "    </tr>\n",
       "    <tr>\n",
       "      <th>2</th>\n",
       "      <td>0.0</td>\n",
       "      <td>0.0</td>\n",
       "      <td>0.0</td>\n",
       "      <td>0</td>\n",
       "    </tr>\n",
       "    <tr>\n",
       "      <th>3</th>\n",
       "      <td>0.0</td>\n",
       "      <td>0.5</td>\n",
       "      <td>0.0</td>\n",
       "      <td>0</td>\n",
       "    </tr>\n",
       "    <tr>\n",
       "      <th>4</th>\n",
       "      <td>0.0</td>\n",
       "      <td>0.0</td>\n",
       "      <td>0.0</td>\n",
       "      <td>0</td>\n",
       "    </tr>\n",
       "    <tr>\n",
       "      <th>...</th>\n",
       "      <td>...</td>\n",
       "      <td>...</td>\n",
       "      <td>...</td>\n",
       "      <td>...</td>\n",
       "    </tr>\n",
       "    <tr>\n",
       "      <th>245</th>\n",
       "      <td>1.0</td>\n",
       "      <td>1.0</td>\n",
       "      <td>1.0</td>\n",
       "      <td>1</td>\n",
       "    </tr>\n",
       "    <tr>\n",
       "      <th>246</th>\n",
       "      <td>0.5</td>\n",
       "      <td>1.0</td>\n",
       "      <td>1.0</td>\n",
       "      <td>1</td>\n",
       "    </tr>\n",
       "    <tr>\n",
       "      <th>247</th>\n",
       "      <td>1.0</td>\n",
       "      <td>0.5</td>\n",
       "      <td>0.5</td>\n",
       "      <td>1</td>\n",
       "    </tr>\n",
       "    <tr>\n",
       "      <th>248</th>\n",
       "      <td>0.5</td>\n",
       "      <td>1.0</td>\n",
       "      <td>0.5</td>\n",
       "      <td>1</td>\n",
       "    </tr>\n",
       "    <tr>\n",
       "      <th>249</th>\n",
       "      <td>0.5</td>\n",
       "      <td>0.5</td>\n",
       "      <td>1.0</td>\n",
       "      <td>1</td>\n",
       "    </tr>\n",
       "  </tbody>\n",
       "</table>\n",
       "<p>250 rows × 4 columns</p>\n",
       "</div>"
      ],
      "text/plain": [
       "     financial_flexibility  credibility  competitiveness  class\n",
       "0                      0.0          0.0              0.0      0\n",
       "1                      0.0          0.0              0.0      0\n",
       "2                      0.0          0.0              0.0      0\n",
       "3                      0.0          0.5              0.0      0\n",
       "4                      0.0          0.0              0.0      0\n",
       "..                     ...          ...              ...    ...\n",
       "245                    1.0          1.0              1.0      1\n",
       "246                    0.5          1.0              1.0      1\n",
       "247                    1.0          0.5              0.5      1\n",
       "248                    0.5          1.0              0.5      1\n",
       "249                    0.5          0.5              1.0      1\n",
       "\n",
       "[250 rows x 4 columns]"
      ]
     },
     "execution_count": 27,
     "metadata": {},
     "output_type": "execute_result"
    }
   ],
   "source": [
    "#To make the model simple consider these three columns and build the model.\n",
    "bankrupt_new= bankrupt[['financial_flexibility','credibility', 'competitiveness', 'class']]\n",
    "bankrupt_new"
   ]
  },
  {
   "cell_type": "markdown",
   "id": "5713240c",
   "metadata": {},
   "source": [
    "Model Building and Deployment"
   ]
  },
  {
   "cell_type": "code",
   "execution_count": 29,
   "id": "f939ce0d",
   "metadata": {},
   "outputs": [],
   "source": [
    "#As our problem is categorical we will be going with the classification models. \n",
    "# Under that also we are having requirement of model having speed and which is explainable so we go with the logistic regression or decision tree\n",
    "# we will also check our choosen model accuracy with the SVM,random forest and gradient boosting tree"
   ]
  },
  {
   "cell_type": "code",
   "execution_count": 30,
   "id": "492fb25b",
   "metadata": {},
   "outputs": [],
   "source": [
    "#Checking the accuracy for the train test split vs cross validation to decide the method\n",
    "x1= bankrupt_new.iloc[::,0:3:]\n",
    "y1= bankrupt_new.iloc[::,3:4:]"
   ]
  },
  {
   "cell_type": "code",
   "execution_count": 31,
   "id": "9b3d9004",
   "metadata": {},
   "outputs": [
    {
     "name": "stdout",
     "output_type": "stream",
     "text": [
      "100.0\n"
     ]
    }
   ],
   "source": [
    "#checking accuracy of the model for the logistic regression model with train test split and cross validation \n",
    "#Train test split\n",
    "xtrain,xtest,ytrain,ytest = train_test_split(x1,y1,test_size=0.3,random_state=7)\n",
    "log_model = LogisticRegression()\n",
    "log_model.fit(xtrain,ytrain)\n",
    "ypred_log= log_model.predict(xtest)\n",
    "result= accuracy_score(ytest,ypred_log)\n",
    "print(result*100)"
   ]
  },
  {
   "cell_type": "code",
   "execution_count": 32,
   "id": "95ac6106",
   "metadata": {},
   "outputs": [
    {
     "data": {
      "text/plain": [
       "99.60000000000001"
      ]
     },
     "execution_count": 32,
     "metadata": {},
     "output_type": "execute_result"
    }
   ],
   "source": [
    "#cross validation\n",
    "results = cross_val_score(log_model,x,y,cv=10).mean()\n",
    "results*100"
   ]
  },
  {
   "cell_type": "code",
   "execution_count": 33,
   "id": "b9730d28",
   "metadata": {},
   "outputs": [],
   "source": [
    "#We will go with the train test split as it is giving good accuracy"
   ]
  },
  {
   "cell_type": "code",
   "execution_count": 41,
   "id": "2e2dd7a4",
   "metadata": {},
   "outputs": [
    {
     "name": "stdout",
     "output_type": "stream",
     "text": [
      "training accuracy is 0.9942857142857143\n",
      "testing accuracy is 1.0\n",
      "              precision    recall  f1-score   support\n",
      "\n",
      "           0       1.00      0.99      0.99        68\n",
      "           1       0.99      1.00      1.00       107\n",
      "\n",
      "    accuracy                           0.99       175\n",
      "   macro avg       1.00      0.99      0.99       175\n",
      "weighted avg       0.99      0.99      0.99       175\n",
      "\n",
      "              precision    recall  f1-score   support\n",
      "\n",
      "           0       1.00      1.00      1.00        39\n",
      "           1       1.00      1.00      1.00        36\n",
      "\n",
      "    accuracy                           1.00        75\n",
      "   macro avg       1.00      1.00      1.00        75\n",
      "weighted avg       1.00      1.00      1.00        75\n",
      "\n"
     ]
    }
   ],
   "source": [
    "#Log model\n",
    "log_model = LogisticRegression()\n",
    "log_model.fit(xtrain,ytrain)\n",
    "ypred_log_train = log_model.predict(xtrain)\n",
    "train_acc_log= accuracy_score(ytrain,ypred_log_train)\n",
    "ypred_log_test= log_model.predict(xtest)\n",
    "test_acc_log= accuracy_score(ytest,ypred_log_test)\n",
    "print('training accuracy is',train_acc_log)\n",
    "print('testing accuracy is',test_acc_log)\n",
    "print(classification_report(ytrain,ypred_log_train))\n",
    "print(classification_report(ytest,ypred_log_test))"
   ]
  },
  {
   "cell_type": "code",
   "execution_count": 47,
   "id": "61a547ba",
   "metadata": {},
   "outputs": [
    {
     "name": "stdout",
     "output_type": "stream",
     "text": [
      "training accuracy is 1.0\n",
      "testing accuracy is 0.9866666666666667\n",
      "              precision    recall  f1-score   support\n",
      "\n",
      "           0       1.00      1.00      1.00        68\n",
      "           1       1.00      1.00      1.00       107\n",
      "\n",
      "    accuracy                           1.00       175\n",
      "   macro avg       1.00      1.00      1.00       175\n",
      "weighted avg       1.00      1.00      1.00       175\n",
      "\n",
      "              precision    recall  f1-score   support\n",
      "\n",
      "           0       0.97      1.00      0.99        39\n",
      "           1       1.00      0.97      0.99        36\n",
      "\n",
      "    accuracy                           0.99        75\n",
      "   macro avg       0.99      0.99      0.99        75\n",
      "weighted avg       0.99      0.99      0.99        75\n",
      "\n"
     ]
    }
   ],
   "source": [
    "#Decision tree classifier\n",
    "dec_model = DecisionTreeClassifier()\n",
    "dec_model.fit(xtrain,ytrain)\n",
    "ypred_dec_train = dec_model.predict(xtrain)\n",
    "train_acc_dec= accuracy_score(ytrain,ypred_dec_train)\n",
    "ypred_dec_test= dec_model.predict(xtest)\n",
    "test_acc_dec= accuracy_score(ytest,ypred_dec_test)\n",
    "print('training accuracy is',train_acc_dec)\n",
    "print('testing accuracy is',test_acc_dec)\n",
    "print(classification_report(ytrain,ypred_dec_train))\n",
    "print(classification_report(ytest,ypred_dec_test))"
   ]
  },
  {
   "cell_type": "code",
   "execution_count": 48,
   "id": "55476ca2",
   "metadata": {},
   "outputs": [],
   "source": [
    "#Logistic regression model accuracy is 100% as well as recall and precision value is also 100% for the testing data\n",
    "#decision tree is also giving good result but as logistic regression is giving better results we will choose logistic regression"
   ]
  },
  {
   "cell_type": "code",
   "execution_count": 49,
   "id": "67a944cb",
   "metadata": {},
   "outputs": [],
   "source": [
    "#Comparing accuracy of our model along with other models which are famous for their accuracies"
   ]
  },
  {
   "cell_type": "code",
   "execution_count": 50,
   "id": "9d8f2f21",
   "metadata": {},
   "outputs": [
    {
     "name": "stdout",
     "output_type": "stream",
     "text": [
      "1.0\n",
      "0.9866666666666667\n"
     ]
    }
   ],
   "source": [
    "#SVM model\n",
    "svm_model = svm.SVC()\n",
    "svm_model.fit(xtrain,ytrain)\n",
    "ypred_svm_train = svm_model.predict(xtrain)\n",
    "train_acc_svm= accuracy_score(ytrain,ypred_svm_train)\n",
    "ypred_svm_test= svm_model.predict(xtest)\n",
    "test_acc_svm= accuracy_score(ytest,ypred_svm_test)\n",
    "print(train_acc_svm)\n",
    "print(test_acc_svm)"
   ]
  },
  {
   "cell_type": "code",
   "execution_count": 51,
   "id": "97e62693",
   "metadata": {},
   "outputs": [
    {
     "name": "stdout",
     "output_type": "stream",
     "text": [
      "1.0\n",
      "0.9866666666666667\n"
     ]
    }
   ],
   "source": [
    "#Random forest model\n",
    "rf_model = RandomForestClassifier()\n",
    "rf_model.fit(xtrain,ytrain)\n",
    "ypred_rf_train = rf_model.predict(xtrain)\n",
    "train_acc_rf= accuracy_score(ytrain,ypred_rf_train)\n",
    "ypred_rf_test= rf_model.predict(xtest)\n",
    "test_acc_rf= accuracy_score(ytest,ypred_rf_test)\n",
    "print(train_acc_rf)\n",
    "print(test_acc_rf)"
   ]
  },
  {
   "cell_type": "code",
   "execution_count": 52,
   "id": "133f4585",
   "metadata": {},
   "outputs": [
    {
     "name": "stdout",
     "output_type": "stream",
     "text": [
      "1.0\n",
      "0.9866666666666667\n"
     ]
    }
   ],
   "source": [
    "#bagging classifier model\n",
    "bc_model = BaggingClassifier()\n",
    "bc_model.fit(xtrain,ytrain)\n",
    "ypred_bc_train = bc_model.predict(xtrain)\n",
    "train_acc_bc= accuracy_score(ytrain,ypred_bc_train)\n",
    "ypred_bc_test= bc_model.predict(xtest)\n",
    "test_acc_bc= accuracy_score(ytest,ypred_bc_test)\n",
    "print(train_acc_bc)\n",
    "print(test_acc_bc)"
   ]
  },
  {
   "cell_type": "code",
   "execution_count": 55,
   "id": "ea0fa39c",
   "metadata": {},
   "outputs": [
    {
     "name": "stdout",
     "output_type": "stream",
     "text": [
      "1.0\n",
      "0.9866666666666667\n"
     ]
    }
   ],
   "source": [
    "ada_model = AdaBoostClassifier(n_estimators = 3,random_state = 7)\n",
    "ada_model.fit(xtrain,ytrain)\n",
    "ypred_ada_train = ada_model.predict(xtrain)\n",
    "train_acc_ada= accuracy_score(ytrain,ypred_ada_train)\n",
    "ypred_ada_test= ada_model.predict(xtest)\n",
    "test_acc_ada= accuracy_score(ytest,ypred_ada_test)\n",
    "print(train_acc_ada)\n",
    "print(test_acc_ada)"
   ]
  },
  {
   "cell_type": "code",
   "execution_count": 80,
   "id": "bc4631d8",
   "metadata": {},
   "outputs": [],
   "source": [
    "#lets compare with the model which handles high data"
   ]
  },
  {
   "cell_type": "code",
   "execution_count": 56,
   "id": "3ca946ba",
   "metadata": {},
   "outputs": [
    {
     "name": "stdout",
     "output_type": "stream",
     "text": [
      "0.9771428571428571\n",
      "0.9866666666666667\n"
     ]
    }
   ],
   "source": [
    "#Naive bayes model\n",
    "nb_model = GaussianNB()\n",
    "nb_model.fit(xtrain,ytrain)\n",
    "ypred_nb_train = nb_model.predict(xtrain)\n",
    "train_acc_nb= accuracy_score(ytrain,ypred_nb_train)\n",
    "ypred_nb_test= nb_model.predict(xtest)\n",
    "test_acc_nb= accuracy_score(ytest,ypred_nb_test)\n",
    "print(train_acc_nb)\n",
    "print(test_acc_nb)"
   ]
  },
  {
   "cell_type": "code",
   "execution_count": 58,
   "id": "712beb97",
   "metadata": {},
   "outputs": [],
   "source": [
    "#lets compare our model with all these models"
   ]
  },
  {
   "cell_type": "code",
   "execution_count": 65,
   "id": "85258ecd",
   "metadata": {},
   "outputs": [
    {
     "data": {
      "text/html": [
       "<div>\n",
       "<style scoped>\n",
       "    .dataframe tbody tr th:only-of-type {\n",
       "        vertical-align: middle;\n",
       "    }\n",
       "\n",
       "    .dataframe tbody tr th {\n",
       "        vertical-align: top;\n",
       "    }\n",
       "\n",
       "    .dataframe thead th {\n",
       "        text-align: right;\n",
       "    }\n",
       "</style>\n",
       "<table border=\"1\" class=\"dataframe\">\n",
       "  <thead>\n",
       "    <tr style=\"text-align: right;\">\n",
       "      <th></th>\n",
       "      <th>Model_Name</th>\n",
       "      <th>Training_Accuracy</th>\n",
       "      <th>Testing_Accuracy</th>\n",
       "    </tr>\n",
       "  </thead>\n",
       "  <tbody>\n",
       "    <tr>\n",
       "      <th>0</th>\n",
       "      <td>Logistic regression</td>\n",
       "      <td>0.994286</td>\n",
       "      <td>1.000000</td>\n",
       "    </tr>\n",
       "    <tr>\n",
       "      <th>1</th>\n",
       "      <td>Decision Tree</td>\n",
       "      <td>1.000000</td>\n",
       "      <td>0.986667</td>\n",
       "    </tr>\n",
       "    <tr>\n",
       "      <th>2</th>\n",
       "      <td>Support vector machine</td>\n",
       "      <td>1.000000</td>\n",
       "      <td>0.986667</td>\n",
       "    </tr>\n",
       "    <tr>\n",
       "      <th>3</th>\n",
       "      <td>Random forest</td>\n",
       "      <td>1.000000</td>\n",
       "      <td>0.986667</td>\n",
       "    </tr>\n",
       "    <tr>\n",
       "      <th>4</th>\n",
       "      <td>Bagging classifier</td>\n",
       "      <td>1.000000</td>\n",
       "      <td>0.986667</td>\n",
       "    </tr>\n",
       "    <tr>\n",
       "      <th>5</th>\n",
       "      <td>Adaboost classifier</td>\n",
       "      <td>1.000000</td>\n",
       "      <td>0.986667</td>\n",
       "    </tr>\n",
       "    <tr>\n",
       "      <th>6</th>\n",
       "      <td>Naive Bayes</td>\n",
       "      <td>0.977143</td>\n",
       "      <td>0.986667</td>\n",
       "    </tr>\n",
       "  </tbody>\n",
       "</table>\n",
       "</div>"
      ],
      "text/plain": [
       "               Model_Name  Training_Accuracy  Testing_Accuracy\n",
       "0     Logistic regression           0.994286          1.000000\n",
       "1           Decision Tree           1.000000          0.986667\n",
       "2  Support vector machine           1.000000          0.986667\n",
       "3           Random forest           1.000000          0.986667\n",
       "4      Bagging classifier           1.000000          0.986667\n",
       "5     Adaboost classifier           1.000000          0.986667\n",
       "6             Naive Bayes           0.977143          0.986667"
      ]
     },
     "execution_count": 65,
     "metadata": {},
     "output_type": "execute_result"
    }
   ],
   "source": [
    "scores={\"Model_Name\":['Logistic regression','Decision Tree','Support vector machine','Random forest'\n",
    "         ,'Bagging classifier','Adaboost classifier','Naive Bayes'],\n",
    "       \"Training_Accuracy\":[train_acc_log,train_acc_dec,train_acc_svm,train_acc_rf,train_acc_bc,train_acc_ada,\n",
    "                            train_acc_nb],\n",
    "       \"Testing_Accuracy\":[test_acc_log,test_acc_dec,test_acc_svm,test_acc_rf,test_acc_bc,test_acc_ada,\n",
    "                          test_acc_nb]}\n",
    "score = pd.DataFrame(scores)\n",
    "score"
   ]
  },
  {
   "cell_type": "code",
   "execution_count": 86,
   "id": "5ee1628f",
   "metadata": {},
   "outputs": [
    {
     "data": {
      "text/plain": [
       "Text(0.5, 1.0, 'Training Accuracy comparison')"
      ]
     },
     "execution_count": 86,
     "metadata": {},
     "output_type": "execute_result"
    },
    {
     "data": {
      "image/png": "[encoded data removed]",
      "text/plain": [
       "<Figure size 1440x576 with 1 Axes>"
      ]
     },
     "metadata": {
      "needs_background": "light"
     },
     "output_type": "display_data"
    }
   ],
   "source": [
    "fig = plt.figure(figsize = (20,8))\n",
    "plt.bar(score.Model_Name,score.Training_Accuracy)\n",
    "plt.title('Training Accuracy comparison')"
   ]
  },
  {
   "cell_type": "code",
   "execution_count": 78,
   "id": "7d00e501",
   "metadata": {},
   "outputs": [
    {
     "data": {
      "text/plain": [
       "Text(0.5, 1.0, 'Testing Accuracy comparison')"
      ]
     },
     "execution_count": 78,
     "metadata": {},
     "output_type": "execute_result"
    },
    {
     "data": {
      "image/png": "[encoded data removed]",
      "text/plain": [
       "<Figure size 1440x576 with 1 Axes>"
      ]
     },
     "metadata": {
      "needs_background": "light"
     },
     "output_type": "display_data"
    }
   ],
   "source": [
    "fig = plt.figure(figsize = (20,8))\n",
    "plt.bar(score.Model_Name,score.Testing_Accuracy)\n",
    "plt.title('Testing Accuracy comparison')"
   ]
  },
  {
   "cell_type": "code",
   "execution_count": 79,
   "id": "3891c8cb",
   "metadata": {},
   "outputs": [],
   "source": [
    "#so our model gives good testing accuracy than all other models"
   ]
  },
  {
   "cell_type": "code",
   "execution_count": 87,
   "id": "0e7ce970",
   "metadata": {},
   "outputs": [],
   "source": [
    "#lets do the deployment"
   ]
  },
  {
   "cell_type": "code",
   "execution_count": 2,
   "id": "f8a90058",
   "metadata": {},
   "outputs": [
    {
     "name": "stdout",
     "output_type": "stream",
     "text": [
      "1.0\n"
     ]
    }
   ],
   "source": [
    "import pandas as pd\n",
    "from sklearn import preprocessing\n",
    "import matplotlib.pyplot as plt\n",
    "import ppscore as pps\n",
    "from sklearn.feature_selection import chi2\n",
    "from sklearn.model_selection import train_test_split\n",
    "from sklearn.linear_model import LogisticRegression\n",
    "from sklearn.metrics import accuracy_score\n",
    "from sklearn.model_selection import cross_val_score\n",
    "import warnings\n",
    "warnings.filterwarnings(\"ignore\")\n",
    "from sklearn.feature_selection import RFE\n",
    "from sklearn.tree import DecisionTreeClassifier\n",
    "from sklearn import svm\n",
    "from sklearn.naive_bayes import GaussianNB\n",
    "from sklearn.ensemble import RandomForestClassifier\n",
    "from sklearn.metrics import classification_report\n",
    "from sklearn.ensemble import BaggingClassifier\n",
    "from sklearn.ensemble import AdaBoostClassifier\n",
    "from sklearn.neighbors import KNeighborsClassifier\n",
    "from sklearn.ensemble import VotingClassifier\n",
    "import pickle\n",
    "from statistics import mode\n",
    "import streamlit as st\n",
    "\n",
    "#data collection\n",
    "bankrupt = pd.read_csv('bankruptcy-prevention.csv',sep=';')\n",
    "bankrupt\n",
    "\n",
    "#data EDA\n",
    "bankrupt.columns=bankrupt.columns.str.strip()\n",
    "label_encoder = preprocessing.LabelEncoder()\n",
    "bankrupt['class']=label_encoder.fit_transform(bankrupt['class'])\n",
    "\n",
    "#feature engineering\n",
    "bankrupt_new= bankrupt[['financial_flexibility','credibility', 'competitiveness', 'class']]\n",
    "bankrupt_new\n",
    "\n",
    "#model building\n",
    "x1= bankrupt_new.iloc[::,0:3:]\n",
    "y1= bankrupt_new.iloc[::,3:4:]\n",
    "xtrain,xtest,ytrain,ytest = train_test_split(x1,y1,test_size=0.3,random_state=7)\n",
    "log_model = LogisticRegression()\n",
    "log_model.fit(xtrain,ytrain)\n",
    "\n",
    "#saving the model\n",
    "filename= 'bankrupt_model.sav'\n",
    "pickle.dump(log_model,open(filename,'wb'))\n",
    "\n",
    "#loading the model\n",
    "load_model = pickle.load(open(filename, 'rb'))\n",
    "result = load_model.score(xtest, ytest)\n",
    "print(result)"
   ]
  },
  {
   "cell_type": "code",
   "execution_count": 9,
   "id": "8dec4aa3",
   "metadata": {},
   "outputs": [
    {
     "name": "stdout",
     "output_type": "stream",
     "text": [
      "[0 0 0 0 0 0 0 0 0 0 0 0 0 0 0 0 0 0 0 0 0 0 0 0 0 0 0 0 0 0 0 0 0 0 0 0 0\n",
      " 0 0 0 0 0 0 0 0 0 0 0 0 0 0 0 0 0 0 0 0 0 0 0 0 0 0 0 0 0 0 0 0 0 0 0 1 0\n",
      " 0 0 0 0 0 0 0 0 0 0 0 0 0 0 0 0 0 0 0 0 0 0 0 0 0 0 0 0 0 0 0 0 0 1 1 1 1\n",
      " 1 1 1 1 1 1 1 1 1 1 1 1 1 1 1 1 1 1 1 1 1 1 1 1 1 1 1 1 1 1 1 1 1 1 1 1 1\n",
      " 1 1 1 1 1 1 1 1 1 1 1 1 1 1 1 1 1 1 1 1 1 1 1 1 1 1 1 1 1 1 1 1 1 1 1 1 1\n",
      " 1 1 1 1 1 1 1 1 1 1 1 1 1 1 1 1 1 1 1 1 1 1 1 1 1 1 1 1 1 1 1 1 1 1 1 1 1\n",
      " 1 1 1 1 1 1 1 1 1 1 1 1 1 1 1 1 1 1 1 1 1 1 1 1 1 1 1 1]\n",
      "[0 0 0 0 0 0 0 0 0 0 0 0 0 0 0 0 0 0 0 0 0 0 0 0 0 0 0 0 0 0 0 0 0 0 0 0 0\n",
      " 0 0 0 0 0 0 0 0 0 0 0 0 0 0 0 0 0 0 0 0 0 0 0 0 0 0 0 0 0 0 0 0 0 0 0 1 0\n",
      " 0 0 0 0 0 0 0 0 0 0 0 0 0 0 0 0 0 0 0 0 0 0 0 0 0 0 0 0 0 0 0 0 0 1 1 1 1\n",
      " 1 1 1 1 1 1 1 1 1 1 1 1 1 1 1 1 1 1 1 1 1 1 1 1 1 1 1 1 1 1 1 1 1 1 1 1 1\n",
      " 1 1 1 1 1 1 1 1 1 1 1 1 1 1 1 1 1 1 1 1 1 1 1 1 1 1 1 1 1 1 1 1 1 1 1 1 1\n",
      " 1 1 1 1 1 1 1 1 1 1 1 1 1 1 1 1 1 1 1 1 1 1 1 1 1 1 1 1 1 1 1 1 1 1 1 1 1\n",
      " 1 1 1 1 1 1 1 1 1 1 1 1 1 1 1 1 1 1 1 1 1 1 1 1 1 1 1 1]\n"
     ]
    }
   ],
   "source": [
    "import pandas as pd\n",
    "from sklearn import preprocessing\n",
    "import matplotlib.pyplot as plt\n",
    "import ppscore as pps\n",
    "from sklearn.feature_selection import chi2\n",
    "from sklearn.model_selection import train_test_split\n",
    "from sklearn.linear_model import LogisticRegression\n",
    "from sklearn.metrics import accuracy_score\n",
    "from sklearn.model_selection import cross_val_score\n",
    "import warnings\n",
    "warnings.filterwarnings(\"ignore\")\n",
    "from sklearn.feature_selection import RFE\n",
    "from sklearn.tree import DecisionTreeClassifier\n",
    "from sklearn import svm\n",
    "from sklearn.naive_bayes import GaussianNB\n",
    "from sklearn.ensemble import RandomForestClassifier\n",
    "from sklearn.metrics import classification_report\n",
    "from sklearn.ensemble import BaggingClassifier\n",
    "from sklearn.ensemble import AdaBoostClassifier\n",
    "from sklearn.neighbors import KNeighborsClassifier\n",
    "from sklearn.ensemble import VotingClassifier\n",
    "import pickle\n",
    "from statistics import mode\n",
    "import streamlit as st\n",
    "\n",
    "st.title('Bankrupt Model')\n",
    "#data collection\n",
    "bankrupt = pd.read_csv('bankruptcy-prevention.csv',sep=';')\n",
    "bankrupt\n",
    "\n",
    "#data EDA\n",
    "bankrupt.columns=bankrupt.columns.str.strip()\n",
    "label_encoder = preprocessing.LabelEncoder()\n",
    "bankrupt['class']=label_encoder.fit_transform(bankrupt['class'])\n",
    "\n",
    "#feature engineering\n",
    "bankrupt_new= bankrupt[['financial_flexibility','credibility', 'competitiveness', 'class']]\n",
    "\n",
    "st.subheader('Input paramters')\n",
    "st.write(bankrupt.iloc[::,2:5])\n",
    "x1= bankrupt_new.iloc[::,0:3:]\n",
    "y1= bankrupt_new.iloc[::,3:4:]\n",
    "\n",
    "#loading the model\n",
    "filename= 'bankrupt_model.sav'\n",
    "load_model = pickle.load(open(filename, 'rb'))\n",
    "result = load_model.score(x1, y1)\n",
    "predictions =load_model.predict(x1)\n",
    "print(predictions)\n",
    "st.subheader('Predictions')\n",
    "st.write(predictions)\n",
    "predi_probability = load_model.predict_proba(x1)\n",
    "print(predi_probability)\n",
    "st.subheader('Prediction Probability')\n",
    "st.write(predi_probability)\n",
    "\n",
    "bankrupt_output = pd.concat([bankrupt,pd.DataFrame(predi_probability)],axis=1)\n",
    "bankrupt_output.to_excel('bankrupt_output.xlsx')"
   ]
  },
  {
   "cell_type": "code",
   "execution_count": 11,
   "id": "353dedf9",
   "metadata": {},
   "outputs": [
    {
     "data": {
      "text/plain": [
       "array([[0.95228916, 0.04771084],\n",
       "       [0.95228916, 0.04771084],\n",
       "       [0.95228916, 0.04771084],\n",
       "       [0.86497975, 0.13502025],\n",
       "       [0.95228916, 0.04771084],\n",
       "       [0.86497975, 0.13502025],\n",
       "       [0.95228916, 0.04771084],\n",
       "       [0.95228916, 0.04771084],\n",
       "       [0.86497975, 0.13502025],\n",
       "       [0.86497975, 0.13502025],\n",
       "       [0.87313777, 0.12686223],\n",
       "       [0.95228916, 0.04771084],\n",
       "       [0.95228916, 0.04771084],\n",
       "       [0.95228916, 0.04771084],\n",
       "       [0.73613217, 0.26386783],\n",
       "       [0.95228916, 0.04771084],\n",
       "       [0.95228916, 0.04771084],\n",
       "       [0.95228916, 0.04771084],\n",
       "       [0.95228916, 0.04771084],\n",
       "       [0.95228916, 0.04771084],\n",
       "       [0.95228916, 0.04771084],\n",
       "       [0.95228916, 0.04771084],\n",
       "       [0.95228916, 0.04771084],\n",
       "       [0.95228916, 0.04771084],\n",
       "       [0.95228916, 0.04771084],\n",
       "       [0.95228916, 0.04771084],\n",
       "       [0.95228916, 0.04771084],\n",
       "       [0.95228916, 0.04771084],\n",
       "       [0.95228916, 0.04771084],\n",
       "       [0.95228916, 0.04771084],\n",
       "       [0.95228916, 0.04771084],\n",
       "       [0.95228916, 0.04771084],\n",
       "       [0.95228916, 0.04771084],\n",
       "       [0.95228916, 0.04771084],\n",
       "       [0.95228916, 0.04771084],\n",
       "       [0.86497975, 0.13502025],\n",
       "       [0.67279473, 0.32720527],\n",
       "       [0.95228916, 0.04771084],\n",
       "       [0.86497975, 0.13502025],\n",
       "       [0.67279473, 0.32720527],\n",
       "       [0.95228916, 0.04771084],\n",
       "       [0.95228916, 0.04771084],\n",
       "       [0.86497975, 0.13502025],\n",
       "       [0.86497975, 0.13502025],\n",
       "       [0.87313777, 0.12686223],\n",
       "       [0.95228916, 0.04771084],\n",
       "       [0.95228916, 0.04771084],\n",
       "       [0.95228916, 0.04771084],\n",
       "       [0.73613217, 0.26386783],\n",
       "       [0.73613217, 0.26386783],\n",
       "       [0.95228916, 0.04771084],\n",
       "       [0.95228916, 0.04771084],\n",
       "       [0.95228916, 0.04771084],\n",
       "       [0.86497975, 0.13502025],\n",
       "       [0.95228916, 0.04771084],\n",
       "       [0.86497975, 0.13502025],\n",
       "       [0.67279473, 0.32720527],\n",
       "       [0.95228916, 0.04771084],\n",
       "       [0.95228916, 0.04771084],\n",
       "       [0.86497975, 0.13502025],\n",
       "       [0.95228916, 0.04771084],\n",
       "       [0.95228916, 0.04771084],\n",
       "       [0.95228916, 0.04771084],\n",
       "       [0.95228916, 0.04771084],\n",
       "       [0.95228916, 0.04771084],\n",
       "       [0.95228916, 0.04771084],\n",
       "       [0.95228916, 0.04771084],\n",
       "       [0.86497975, 0.13502025],\n",
       "       [0.87313777, 0.12686223],\n",
       "       [0.95228916, 0.04771084],\n",
       "       [0.95228916, 0.04771084],\n",
       "       [0.95228916, 0.04771084],\n",
       "       [0.43237797, 0.56762203],\n",
       "       [0.95228916, 0.04771084],\n",
       "       [0.95228916, 0.04771084],\n",
       "       [0.95228916, 0.04771084],\n",
       "       [0.95228916, 0.04771084],\n",
       "       [0.95228916, 0.04771084],\n",
       "       [0.95228916, 0.04771084],\n",
       "       [0.95228916, 0.04771084],\n",
       "       [0.95228916, 0.04771084],\n",
       "       [0.95228916, 0.04771084],\n",
       "       [0.95228916, 0.04771084],\n",
       "       [0.95228916, 0.04771084],\n",
       "       [0.95228916, 0.04771084],\n",
       "       [0.95228916, 0.04771084],\n",
       "       [0.95228916, 0.04771084],\n",
       "       [0.95228916, 0.04771084],\n",
       "       [0.95228916, 0.04771084],\n",
       "       [0.95228916, 0.04771084],\n",
       "       [0.95228916, 0.04771084],\n",
       "       [0.95228916, 0.04771084],\n",
       "       [0.95228916, 0.04771084],\n",
       "       [0.95228916, 0.04771084],\n",
       "       [0.95228916, 0.04771084],\n",
       "       [0.86497975, 0.13502025],\n",
       "       [0.95228916, 0.04771084],\n",
       "       [0.86497975, 0.13502025],\n",
       "       [0.95228916, 0.04771084],\n",
       "       [0.95228916, 0.04771084],\n",
       "       [0.86497975, 0.13502025],\n",
       "       [0.86497975, 0.13502025],\n",
       "       [0.87313777, 0.12686223],\n",
       "       [0.95228916, 0.04771084],\n",
       "       [0.95228916, 0.04771084],\n",
       "       [0.95228916, 0.04771084],\n",
       "       [0.73613217, 0.26386783],\n",
       "       [0.23591887, 0.76408113],\n",
       "       [0.23591887, 0.76408113],\n",
       "       [0.23591887, 0.76408113],\n",
       "       [0.00475363, 0.99524637],\n",
       "       [0.00475363, 0.99524637],\n",
       "       [0.00475363, 0.99524637],\n",
       "       [0.01366223, 0.98633777],\n",
       "       [0.09622385, 0.90377615],\n",
       "       [0.09016559, 0.90983441],\n",
       "       [0.04137057, 0.95862943],\n",
       "       [0.03304335, 0.96695665],\n",
       "       [0.01466304, 0.98533696],\n",
       "       [0.01366223, 0.98633777],\n",
       "       [0.09622385, 0.90377615],\n",
       "       [0.09016559, 0.90983441],\n",
       "       [0.09016559, 0.90983441],\n",
       "       [0.04137057, 0.95862943],\n",
       "       [0.03304335, 0.96695665],\n",
       "       [0.01466304, 0.98533696],\n",
       "       [0.01366223, 0.98633777],\n",
       "       [0.09622385, 0.90377615],\n",
       "       [0.09016559, 0.90983441],\n",
       "       [0.04137057, 0.95862943],\n",
       "       [0.03304335, 0.96695665],\n",
       "       [0.01466304, 0.98533696],\n",
       "       [0.23591887, 0.76408113],\n",
       "       [0.23591887, 0.76408113],\n",
       "       [0.23591887, 0.76408113],\n",
       "       [0.00475363, 0.99524637],\n",
       "       [0.00475363, 0.99524637],\n",
       "       [0.00475363, 0.99524637],\n",
       "       [0.01366223, 0.98633777],\n",
       "       [0.09622385, 0.90377615],\n",
       "       [0.09016559, 0.90983441],\n",
       "       [0.04137057, 0.95862943],\n",
       "       [0.03304335, 0.96695665],\n",
       "       [0.01466304, 0.98533696],\n",
       "       [0.01366223, 0.98633777],\n",
       "       [0.09622385, 0.90377615],\n",
       "       [0.09016559, 0.90983441],\n",
       "       [0.04137057, 0.95862943],\n",
       "       [0.00475363, 0.99524637],\n",
       "       [0.01466304, 0.98533696],\n",
       "       [0.01466304, 0.98533696],\n",
       "       [0.01466304, 0.98533696],\n",
       "       [0.00475363, 0.99524637],\n",
       "       [0.00475363, 0.99524637],\n",
       "       [0.00475363, 0.99524637],\n",
       "       [0.11123218, 0.88876782],\n",
       "       [0.01466304, 0.98533696],\n",
       "       [0.01466304, 0.98533696],\n",
       "       [0.04137057, 0.95862943],\n",
       "       [0.04137057, 0.95862943],\n",
       "       [0.04137057, 0.95862943],\n",
       "       [0.0386183 , 0.9613817 ],\n",
       "       [0.0386183 , 0.9613817 ],\n",
       "       [0.00475363, 0.99524637],\n",
       "       [0.23591887, 0.76408113],\n",
       "       [0.0386183 , 0.9613817 ],\n",
       "       [0.00475363, 0.99524637],\n",
       "       [0.01366223, 0.98633777],\n",
       "       [0.01366223, 0.98633777],\n",
       "       [0.01366223, 0.98633777],\n",
       "       [0.0386183 , 0.9613817 ],\n",
       "       [0.0386183 , 0.9613817 ],\n",
       "       [0.0386183 , 0.9613817 ],\n",
       "       [0.04430995, 0.95569005],\n",
       "       [0.11123218, 0.88876782],\n",
       "       [0.01466304, 0.98533696],\n",
       "       [0.04430995, 0.95569005],\n",
       "       [0.01366223, 0.98633777],\n",
       "       [0.01366223, 0.98633777],\n",
       "       [0.01466304, 0.98533696],\n",
       "       [0.04137057, 0.95862943],\n",
       "       [0.23591887, 0.76408113],\n",
       "       [0.01366223, 0.98633777],\n",
       "       [0.22323787, 0.77676213],\n",
       "       [0.09016559, 0.90983441],\n",
       "       [0.11123218, 0.88876782],\n",
       "       [0.22323787, 0.77676213],\n",
       "       [0.04137057, 0.95862943],\n",
       "       [0.09016559, 0.90983441],\n",
       "       [0.00475363, 0.99524637],\n",
       "       [0.11852152, 0.88147848],\n",
       "       [0.23591887, 0.76408113],\n",
       "       [0.28053941, 0.71946059],\n",
       "       [0.0386183 , 0.9613817 ],\n",
       "       [0.49031192, 0.50968808],\n",
       "       [0.00475363, 0.99524637],\n",
       "       [0.01366223, 0.98633777],\n",
       "       [0.01366223, 0.98633777],\n",
       "       [0.01366223, 0.98633777],\n",
       "       [0.0386183 , 0.9613817 ],\n",
       "       [0.0386183 , 0.9613817 ],\n",
       "       [0.04430995, 0.95569005],\n",
       "       [0.01466304, 0.98533696],\n",
       "       [0.04430995, 0.95569005],\n",
       "       [0.01366223, 0.98633777],\n",
       "       [0.01366223, 0.98633777],\n",
       "       [0.01466304, 0.98533696],\n",
       "       [0.04137057, 0.95862943],\n",
       "       [0.23591887, 0.76408113],\n",
       "       [0.01366223, 0.98633777],\n",
       "       [0.22323787, 0.77676213],\n",
       "       [0.04137057, 0.95862943],\n",
       "       [0.09016559, 0.90983441],\n",
       "       [0.22323787, 0.77676213],\n",
       "       [0.09016559, 0.90983441],\n",
       "       [0.23591887, 0.76408113],\n",
       "       [0.23591887, 0.76408113],\n",
       "       [0.23591887, 0.76408113],\n",
       "       [0.00475363, 0.99524637],\n",
       "       [0.00475363, 0.99524637],\n",
       "       [0.00475363, 0.99524637],\n",
       "       [0.01366223, 0.98633777],\n",
       "       [0.09622385, 0.90377615],\n",
       "       [0.09016559, 0.90983441],\n",
       "       [0.04137057, 0.95862943],\n",
       "       [0.03304335, 0.96695665],\n",
       "       [0.01466304, 0.98533696],\n",
       "       [0.01366223, 0.98633777],\n",
       "       [0.09622385, 0.90377615],\n",
       "       [0.09016559, 0.90983441],\n",
       "       [0.09016559, 0.90983441],\n",
       "       [0.04137057, 0.95862943],\n",
       "       [0.03304335, 0.96695665],\n",
       "       [0.01466304, 0.98533696],\n",
       "       [0.01366223, 0.98633777],\n",
       "       [0.09622385, 0.90377615],\n",
       "       [0.09016559, 0.90983441],\n",
       "       [0.04137057, 0.95862943],\n",
       "       [0.03304335, 0.96695665],\n",
       "       [0.01466304, 0.98533696],\n",
       "       [0.23591887, 0.76408113],\n",
       "       [0.23591887, 0.76408113],\n",
       "       [0.23591887, 0.76408113],\n",
       "       [0.00475363, 0.99524637],\n",
       "       [0.00475363, 0.99524637],\n",
       "       [0.00475363, 0.99524637],\n",
       "       [0.01366223, 0.98633777],\n",
       "       [0.09622385, 0.90377615],\n",
       "       [0.09016559, 0.90983441],\n",
       "       [0.04137057, 0.95862943]])"
      ]
     },
     "execution_count": 11,
     "metadata": {},
     "output_type": "execute_result"
    }
   ],
   "source": [
    "load_model.predict_proba(x1)"
   ]
  },
  {
   "cell_type": "code",
   "execution_count": null,
   "id": "3990552a",
   "metadata": {},
   "outputs": [],
   "source": []
  }
 ],
 "metadata": {
  "kernelspec": {
   "display_name": "Python 3 (ipykernel)",
   "language": "python",
   "name": "python3"
  },
  "language_info": {
   "codemirror_mode": {
    "name": "ipython",
    "version": 3
   },
   "file_extension": ".py",
   "mimetype": "text/x-python",
   "name": "python",
   "nbconvert_exporter": "python",
   "pygments_lexer": "ipython3",
   "version": "3.9.7"
  }
 },
 "nbformat": 4,
 "nbformat_minor": 5
}
